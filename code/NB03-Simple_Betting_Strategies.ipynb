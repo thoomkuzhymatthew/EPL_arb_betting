{
 "cells": [
  {
   "cell_type": "markdown",
   "metadata": {},
   "source": [
    "---\n",
    "# Data Collection:\n",
    "\n",
    "**Author:** Xinyan Liao\n",
    "\n",
    "**Date last edited:** 4/2/2025\n",
    "\n",
    "**Objective:** Engaging in exploratory data analysis (EDA) and backtesting with regards to simple, unidirectional betting strategies.\n",
    "\n",
    "---"
   ]
  },
  {
   "cell_type": "markdown",
   "metadata": {},
   "source": [
    "# 1. Introduction\n",
    "The main purpose of this notebook is to dive deeper into simpler, directional betting strategies like betting on the favourite or the home team. Our approach would involve both exploratory data analysis (EDA) to inform us of any potential betting edges before backtesting these respective strategies over time.\n",
    "\n",
    "The research questions are kept intentionally vague to give us more wiggle room for exploration but here are some key questions we want to investigate in this notebook:\n",
    "\n",
    "1. What are the bookmakers that provide the highest odds?\n",
    "2. Are there potential mispricing in odds that are exploitable?\n",
    "3. When are betting on favourites, underdogs or draws more advantageous?\n",
    "\n",
    "For our purposes, we will merge the two tables from our SQLite database based off each fixture's unique `fixture_id` to form a table with the odds and match outcomes. We will then pick the best possible odds for our respective strategies for analysis.\n",
    "\n",
    "For each plot, the link to the SVG format of it is embedded using markdown. Clicking on it brings you to the exact plot we're referencing in the `../data/visualisations` folder for easy access and analysis."
   ]
  },
  {
   "cell_type": "markdown",
   "metadata": {},
   "source": [
    "---"
   ]
  },
  {
   "cell_type": "markdown",
   "metadata": {},
   "source": [
    "# 2. Import Libraries\n",
    "We import the necessary libraries for:\n",
    "- Data manipulation using `pandas`.\n",
    "- Interacting with the SQL database using `SQLAlchemy`.\n",
    "- Generating and saving our visualisations with `lets_plot`."
   ]
  },
  {
   "cell_type": "code",
   "execution_count": 44,
   "metadata": {},
   "outputs": [],
   "source": [
    "import pandas as pd\n",
    "from sqlalchemy import create_engine\n",
    "from lets_plot import * \n",
    "from lets_plot import ggsave"
   ]
  },
  {
   "cell_type": "markdown",
   "metadata": {},
   "source": [
    "---"
   ]
  },
  {
   "cell_type": "markdown",
   "metadata": {},
   "source": [
    "# 3. Merging Odds Data and Match Outcomes "
   ]
  },
  {
   "cell_type": "code",
   "execution_count": 45,
   "metadata": {},
   "outputs": [],
   "source": [
    "engine = create_engine('sqlite:///../data/sports_odds.db')\n",
    "odds_df = pd.read_sql('SELECT * FROM historical_odds', con=engine)\n",
    "results_df = pd.read_sql('SELECT * FROM match_results', con=engine)"
   ]
  },
  {
   "cell_type": "markdown",
   "metadata": {},
   "source": [
    "After inspection, we realise that there is a different number of rows for `odds_df` and `results_df`. These discrepancies in the data size are normal and will not affect our analysis. Hence, we used `pandas` merge on 'inner' to ensure only matches with `fixture_id` present in both dataframes will be selected for analysis."
   ]
  },
  {
   "cell_type": "code",
   "execution_count": 46,
   "metadata": {},
   "outputs": [],
   "source": [
    "merged_df = odds_df.merge(results_df, on='fixture_id', how='inner')"
   ]
  },
  {
   "cell_type": "markdown",
   "metadata": {},
   "source": [
    "---"
   ]
  },
  {
   "cell_type": "markdown",
   "metadata": {},
   "source": [
    "# 4. Extracting the Highest Odds for Each Fixture and Outcome\n",
    "\n",
    "We understand that getting the best odds for each fixture/outcome may be theoretically difficult as a retail better. However, this layer of analysis gives us further information about which bookmakers could potentially offer better odds for certain teams/outcomes and gives us more accuracy in predicting the profitability of our strategy."
   ]
  },
  {
   "cell_type": "code",
   "execution_count": 47,
   "metadata": {},
   "outputs": [],
   "source": [
    "# Import the function to process each row and obtain highest odds\n",
    "from functions import process_row\n",
    "\n",
    "# Apply the function to each row\n",
    "new_columns = merged_df.apply(process_row, axis=1)\n",
    "merged_df = pd.concat([merged_df, new_columns], axis=1)"
   ]
  },
  {
   "cell_type": "code",
   "execution_count": null,
   "metadata": {},
   "outputs": [],
   "source": [
    "merged_df = merged_df[['fixture_id', 'Date', 'home_team', 'away_team', 'FTR', 'max_home', 'home_bookmaker', 'max_away', 'away_bookmaker', 'max_draw', 'draw_bookmaker']]\n",
    "merged_df"
   ]
  },
  {
   "cell_type": "markdown",
   "metadata": {},
   "source": [
    "---"
   ]
  },
  {
   "cell_type": "markdown",
   "metadata": {},
   "source": [
    "# 5. Which Bookmakers Offer the Best Odds?\n",
    "First, let us look at the prevalence of bookmakers in providing the best odds. This gives us some insight into which bookmakers we can focus on when deciding to place bets, streamlining the process."
   ]
  },
  {
   "cell_type": "code",
   "execution_count": null,
   "metadata": {},
   "outputs": [],
   "source": [
    "LetsPlot.setup_html()"
   ]
  },
  {
   "cell_type": "code",
   "execution_count": 50,
   "metadata": {},
   "outputs": [],
   "source": [
    "# Function to get top bookmakers\n",
    "def get_top_bookmakers(dataframe, column):\n",
    "    \n",
    "    total_matches = len(dataframe)\n",
    "    counts = dataframe[column].value_counts(normalize=True) * 100\n",
    "\n",
    "    # Get the top bookmakers\n",
    "    top_counts = counts.nlargest(5).reset_index()\n",
    "    top_counts.columns = ['Bookmaker', 'Percentage']\n",
    "    \n",
    "    return top_counts\n",
    "\n",
    "top_home = get_top_bookmakers(merged_df, 'home_bookmaker')\n",
    "top_away = get_top_bookmakers(merged_df, 'away_bookmaker')\n",
    "top_draw = get_top_bookmakers(merged_df, 'draw_bookmaker')"
   ]
  },
  {
   "cell_type": "code",
   "execution_count": 51,
   "metadata": {},
   "outputs": [],
   "source": [
    "top_home_bookmakers = (\n",
    "    ggplot(top_home, aes(x='Bookmaker', y='Percentage'))\n",
    "    + geom_bar(stat='identity', fill='#024B04')\n",
    "    + ggsize(800, 400)\n",
    "    + labs(\n",
    "        title='Marathon Bet gives the highest home odds almost 20% of the time!',\n",
    "        subtitle='The top five bookmakers provide the best odds almost 60% of the time!'\n",
    "    )\n",
    "    + theme(\n",
    "        axis_text_x=element_text(size=12, angle=0, hjust=1),\n",
    "        plot_title=element_text(face='bold', hjust=0.5, size=22),\n",
    "        plot_subtitle=element_text(size=16, hjust=0.5, color='blue')\n",
    "    )\n",
    ")"
   ]
  },
  {
   "cell_type": "markdown",
   "metadata": {},
   "source": [
    "[Plot of Top Home Bookmakers](../data/visualisations/simple_betting_strategies/top_home_bookmakers.svg)"
   ]
  },
  {
   "cell_type": "code",
   "execution_count": 52,
   "metadata": {},
   "outputs": [],
   "source": [
    "top_away_bookmakers = (\n",
    "    ggplot(top_away, aes(x='Bookmaker', y='Percentage'))\n",
    "    + geom_bar(stat='identity', fill='#8B2E01')\n",
    "    + ggsize(800, 400)\n",
    "    + labs(\n",
    "        title='Marathon Bet gives the highest away odds again!',\n",
    "        subtitle='Similarly, the top five bookmakers provide the best away odds almost 60% of the time'\n",
    "    )\n",
    "    + theme(\n",
    "        axis_text_x=element_text(size=12, angle=0, hjust=1),\n",
    "        plot_title=element_text(face='bold', hjust=0.5, size=22),\n",
    "        plot_subtitle=element_text(size=16, hjust=0.5, color='blue')\n",
    "    )\n",
    ")"
   ]
  },
  {
   "cell_type": "markdown",
   "metadata": {},
   "source": [
    "[Plot of Top Away Bookmakers](../data/visualisations/simple_betting_strategies/top_away_bookmakers.svg)"
   ]
  },
  {
   "cell_type": "code",
   "execution_count": null,
   "metadata": {},
   "outputs": [],
   "source": [
    "top_draw_bookmakers = (\n",
    "    ggplot(top_draw, aes(x='Bookmaker', y='Percentage'))\n",
    "    + geom_bar(stat='identity', fill='grey')\n",
    "    + ggsize(800, 400)\n",
    "    + labs(\n",
    "        title='Marathon Bet gives the highest odds almost 30% of the time, our clear winner!',\n",
    "        subtitle='Sky Bet and Virgin Bet are additional contenders for good draw odds'\n",
    "    )\n",
    "    + theme(\n",
    "        axis_text_x=element_text(size=12, angle=0, hjust=1),\n",
    "        plot_title=element_text(face='bold', hjust=0.5, size=20),\n",
    "        plot_subtitle=element_text(size=16, hjust=0.5, color='blue'),\n",
    "    )\n",
    ")"
   ]
  },
  {
   "cell_type": "markdown",
   "metadata": {},
   "source": [
    "[Plot of Top Draw Bookmakers](../data/visualisations/simple_betting_strategies/top_draw_bookmakers.svg)"
   ]
  },
  {
   "cell_type": "markdown",
   "metadata": {},
   "source": [
    "**Conclusion**: Marathon Bet has the highest probability of providing the best odds for any particular outcome (Home, Away, Draw). This is unsurprising given its reputation as a low-margin bookmaker in the industry. Other strong contenders to consider are Paddy Power, Betclic, William Hill and Unibet."
   ]
  },
  {
   "cell_type": "markdown",
   "metadata": {},
   "source": [
    "---"
   ]
  },
  {
   "cell_type": "markdown",
   "metadata": {},
   "source": [
    "# 6. How Do the Win Rates of Different Strategies Vary Over Time?\n",
    "Let's look at the win rates of the respective strategies over time to see if there are any significant changes to the dynamics of EPL games (e.g. underdogs taking over)"
   ]
  },
  {
   "cell_type": "markdown",
   "metadata": {},
   "source": [
    "First, we need to convert the full-time result to the outcome of each strategy -- e.g. if the team with higher odds wins, we lable it favourite (or F)."
   ]
  },
  {
   "cell_type": "code",
   "execution_count": 54,
   "metadata": {},
   "outputs": [],
   "source": [
    "def get_result_type(row):\n",
    "    \n",
    "    home_odds = row['max_home']\n",
    "    away_odds = row['max_away']\n",
    "    result = row['FTR']\n",
    "        \n",
    "    if home_odds > away_odds:\n",
    "        home = 0 # 0 denotes the underdog team\n",
    "        away = 1\n",
    "    else:\n",
    "        home = 1\n",
    "        away = 0\n",
    "\n",
    "    if result == 'D':\n",
    "        result_type = 'D'\n",
    "    elif result == 'H':\n",
    "        if home == 0:\n",
    "            result_type = 'U'\n",
    "        else:\n",
    "            result_type = 'F'\n",
    "    else:\n",
    "        if away == 0:\n",
    "            result_type = 'U'\n",
    "        else:\n",
    "            result_type = 'F'\n",
    "    \n",
    "    return result_type"
   ]
  },
  {
   "cell_type": "code",
   "execution_count": null,
   "metadata": {},
   "outputs": [],
   "source": [
    "strategy_df = merged_df.copy()\n",
    "strategy_df['result_type'] = strategy_df.apply(get_result_type, axis=1)\n",
    "strategy_df = strategy_df[['fixture_id', 'Date', 'home_team', 'away_team', 'result_type']]\n",
    "strategy_df"
   ]
  },
  {
   "cell_type": "markdown",
   "metadata": {},
   "source": [
    "Now, let's further decompose it down to each year and month so we can visualise a time-series of how win rates vary across time."
   ]
  },
  {
   "cell_type": "code",
   "execution_count": 56,
   "metadata": {},
   "outputs": [],
   "source": [
    "strategy_df['Date'] = pd.to_datetime(strategy_df['Date'], dayfirst=True)\n",
    "strategy_df['year'] = strategy_df['Date'].dt.year"
   ]
  },
  {
   "cell_type": "code",
   "execution_count": 57,
   "metadata": {},
   "outputs": [],
   "source": [
    "# Group fixtures by month and year\n",
    "result_counts = strategy_df.groupby(['year', 'result_type']).size().reset_index(name='count')\n",
    "total_matches = strategy_df.groupby('year').size().reset_index(name='total_matches')\n",
    "result_counts = result_counts.merge(total_matches, on='year')\n",
    "\n",
    "# Calculate win rates for each strategy\n",
    "result_counts['win_rate'] = result_counts['count'] / result_counts['total_matches']"
   ]
  },
  {
   "cell_type": "code",
   "execution_count": 58,
   "metadata": {},
   "outputs": [],
   "source": [
    "# Reshape the data for plotting\n",
    "win_rate_df = result_counts.pivot(index='year', columns='result_type', values='win_rate').reset_index()\n",
    "win_rate_df = win_rate_df.rename(columns={'F': 'Bet on Favorite', 'U': 'Bet on Underdog', 'D': 'Bet on Draw'})\n",
    "\n",
    "# Melt for easier plotting\n",
    "win_rate_melted = win_rate_df.melt(id_vars='year', var_name='Strategy', value_name='Win Rate')\n",
    "win_rate_melted['year'] = pd.to_datetime(win_rate_melted['year'], format='%Y')\n",
    "\n",
    "# Reordering so legends appear in proper order in plot\n",
    "desired_order = ['Bet on Favorite', 'Bet on Underdog', 'Bet on Draw']\n",
    "win_rate_melted['Strategy'] = pd.Categorical(win_rate_melted['Strategy'], categories=desired_order, ordered=True)"
   ]
  },
  {
   "cell_type": "code",
   "execution_count": 59,
   "metadata": {},
   "outputs": [],
   "source": [
    "win_rate_across_time = (\n",
    "    ggplot(win_rate_melted, aes(x='year', y='Win Rate', color='Strategy'))\n",
    "    + ggsize(800,400)\n",
    "    + geom_line(size=1)\n",
    "    + geom_point(size=2)\n",
    "    + labs(\n",
    "        x = 'Time',\n",
    "        y = 'Win Rate',\n",
    "        title = 'Expectedly, betting on the favourite team has the highest win rate',\n",
    "        subtitle = 'Surprisingly, the prevalence of draws have seen a noticeable increase from 2023 to 2024.'\n",
    "        )\n",
    "    + theme(\n",
    "        axis_text_x=element_text(size=12, angle=0, hjust=1),\n",
    "        plot_title=element_text(face='bold', hjust=0.5, size=22),\n",
    "        plot_subtitle=element_text(size=16, hjust=0.5, color='blue'),\n",
    "        legend_position=(0.5, 0.5)\n",
    "        )\n",
    "    )"
   ]
  },
  {
   "cell_type": "markdown",
   "metadata": {},
   "source": [
    "[Plot of Win Rate Across Time](../data/visualisations/simple_betting_strategies/win_rate_across_time.svg)"
   ]
  },
  {
   "cell_type": "markdown",
   "metadata": {},
   "source": [
    "**Conclusion**: Expectedly, betting on the favourite team has the greatest chance of being successful at over 50% on average. However, ths is priced into the odds (favourites have lower odds) and is not necessarily indicative of profitability. \n",
    "\n",
    "It is however, interesting, to observe that the prevalence of draws has increased these two seasons. We speculate that it might be due to the overall abilities of teams displaying mean reversion where 'traditional underdogs' like Aston Villa or Nottingham Forest have enjoyed great form and 'traditional powerhouses' like Manchester United expereienced the opposite.  "
   ]
  },
  {
   "cell_type": "markdown",
   "metadata": {},
   "source": [
    "---"
   ]
  },
  {
   "cell_type": "markdown",
   "metadata": {},
   "source": [
    "# 7. Are There Potential Mispricings in Odds Between Home and Away Teams?\n",
    "Here we want to investigate if home teams are priced to be systematically advantaged compared to away teams and if there are potential deviations between actual and implied probabilities of winning.\n",
    "\n",
    "First, we will visualise the odds distribution for both home and away teams to get a sensing of the implied probabilities of winning for both sides.\n",
    "\n",
    "Next, we will use the distribution to decide on the categories to bin our odds in and then investigate the actual vs implied probabilities of winning across various odds categories.\n",
    "\n",
    "### Implied Probability of Winning = 1 / Odds \n",
    "This is the formula we're using to calculate implied probability."
   ]
  },
  {
   "cell_type": "code",
   "execution_count": 60,
   "metadata": {},
   "outputs": [],
   "source": [
    "stadium_df = merged_df.copy()\n",
    "stadium_df = stadium_df[['fixture_id','FTR', 'max_home','max_away']]"
   ]
  },
  {
   "cell_type": "code",
   "execution_count": 61,
   "metadata": {},
   "outputs": [],
   "source": [
    "# Melt the DataFrame\n",
    "odds_melted = stadium_df.melt(value_vars=['max_home', 'max_away'], \n",
    "                      var_name='team_type', value_name='odds')\n",
    "\n",
    "# Rename categories for better readability\n",
    "odds_melted['team_type'] = odds_melted['team_type'].replace({\n",
    "    'max_home': 'Home Odds',\n",
    "    'max_away': 'Away Odds'\n",
    "})"
   ]
  },
  {
   "cell_type": "code",
   "execution_count": 62,
   "metadata": {},
   "outputs": [],
   "source": [
    "odds_density = (\n",
    "        ggplot(odds_melted, aes(x='odds', fill='team_type', color='team_type'))\n",
    "        + ggsize(800,400)\n",
    "        + geom_density(alpha=0.4)  # Add transparency for overlapping densities\n",
    "        + labs(x='Odds', y='Density', color='Team Type', fill='Team Type',\n",
    "               title = 'Density Plot of Home vs Away Odds',\n",
    "               subtitle = 'Home odds peak at 1.6 and have much greater density from the 0 to 4 region')\n",
    "        + scale_x_continuous(limits=(0, 20)) # \n",
    "        + theme(axis_text_x=element_text(size=12, angle=0, hjust=0.5),\n",
    "             axis_title_x=element_text(size=14),\n",
    "             axis_title_y=element_text(size=14),\n",
    "             plot_title=element_text(size=22, face='bold', hjust = 0.5),\n",
    "             plot_subtitle=element_text(size=16, hjust=0.5, color='blue')\n",
    "             )\n",
    "     )"
   ]
  },
  {
   "cell_type": "markdown",
   "metadata": {},
   "source": [
    "[Plot of Odds Density](../data/visualisations/simple_betting_strategies/odds_density.svg)"
   ]
  },
  {
   "cell_type": "markdown",
   "metadata": {},
   "source": [
    "**Conclusion:** Expectedly, we observe that home teams are statistically favourited with a peak of 1.6 compared to away odds at 2.4 . There is also a noticeable leftward skew in the odds distrbibution for home teams."
   ]
  },
  {
   "cell_type": "markdown",
   "metadata": {},
   "source": [
    "---"
   ]
  },
  {
   "cell_type": "markdown",
   "metadata": {},
   "source": [
    "Seeing that most of the odds are clustered from 1 to 10, let's set that as the range of our analysis. The extremes won't serve as good purposes of analysis given the small sample sizes present. \n",
    "\n",
    "For each bin, the implied probability of winning is calculated from the average odds of that bin. The actual probability of winning is determined by deriving the percentage of home/away wins of the total matches."
   ]
  },
  {
   "cell_type": "code",
   "execution_count": null,
   "metadata": {},
   "outputs": [],
   "source": [
    "from functions import get_implied_vs_actual\n",
    "\n",
    "bins = [1.0, 1.5, 2.0, 2.5, 3.0, 3.5, 4.0, 4.5, 5.0, 5.5, 6.0, 8.0, 10.0]\n",
    "\n",
    "home_df = get_implied_vs_actual(\n",
    "    df = stadium_df,\n",
    "    odds_column = 'max_home',\n",
    "    bins = bins,\n",
    "    outcome_label = 'H'\n",
    ")\n",
    "\n",
    "away_df = get_implied_vs_actual(\n",
    "    df = stadium_df,\n",
    "    odds_column = 'max_away',\n",
    "    bins = bins,\n",
    "    outcome_label = 'A'\n",
    ")"
   ]
  },
  {
   "cell_type": "code",
   "execution_count": 64,
   "metadata": {},
   "outputs": [],
   "source": [
    "home_win_probabilities = (\n",
    "    ggplot(home_df, aes(x='odds_bin', y='Probability', color='Type'))\n",
    "    + geom_line(size=1)\n",
    "    + ggsize(800, 400)\n",
    "    + ggtitle('Home Teams: Implied vs Actual Win Probability')\n",
    "    + labs(x='Home Odds Bin', y='Probability', color='Legend')\n",
    "    + scale_color_manual(values={'Actual Probability': 'black', 'Implied Probability': '#C74506'})\n",
    "    + theme(\n",
    "        axis_text_x=element_text(size=12, angle=45, hjust=1),\n",
    "        axis_title_x=element_text(size=14),\n",
    "        axis_title_y=element_text(size=14),\n",
    "        plot_title=element_text(size=22, face='bold', hjust=0.5),\n",
    "        legend_position='bottom'\n",
    "    )\n",
    ")"
   ]
  },
  {
   "cell_type": "markdown",
   "metadata": {},
   "source": [
    "[Plot of Implied vs Actual Probabilities for Home Wins](../data/visualisations/simple_betting_strategies/home_win_probabilities.svg)"
   ]
  },
  {
   "cell_type": "markdown",
   "metadata": {},
   "source": [
    "**Conclusion:** Home odds are rather efficiently priced with some home ground advantage observed in teams that are slight favourites and significant underdogs. \n",
    "\n",
    "Slight Favourites: Home teams which are priced with a 57% probability of winning have a slightly higher actual win probability at 61%.\n",
    "\n",
    "Significant Underdogs: Home teams which are priced around 20% win probability have an actual win probability that is 3-4% points higher."
   ]
  },
  {
   "cell_type": "code",
   "execution_count": 65,
   "metadata": {},
   "outputs": [],
   "source": [
    "away_win_probabilities = (\n",
    "    ggplot(away_df, aes(x='odds_bin', y='Probability', color='Type'))\n",
    "    + geom_line(size=1)\n",
    "    + ggsize(800, 400)\n",
    "    + ggtitle('Away Teams: Implied vs Actual Win Probability')\n",
    "    + labs(x='Away Odds Bin', y='Probability', color='Legend')\n",
    "    + scale_color_manual(values={'Actual Probability': 'black', 'Implied Probability': '#7408B9'})\n",
    "    + theme(\n",
    "        axis_text_x=element_text(size=12, angle=45, hjust=1),\n",
    "        axis_title_x=element_text(size=14),\n",
    "        axis_title_y=element_text(size=14),\n",
    "        plot_title=element_text(size=22, face='bold', hjust=0.5),\n",
    "        legend_position='bottom'\n",
    "    )\n",
    ")"
   ]
  },
  {
   "cell_type": "markdown",
   "metadata": {},
   "source": [
    "[Plot of Implied vs Actual Probabilities for Away Wins](../data/visualisations/simple_betting_strategies/away_win_probabilities.svg)"
   ]
  },
  {
   "cell_type": "markdown",
   "metadata": {},
   "source": [
    "**Conclusion:** Away odds are priced almost perfectly for teams which are favourites and fair matches. However, significant deviations occur when the away teams are underdogs.  \n",
    "\n",
    "Slight Underdogs: Away teams with a 30-40% probability of winning have a significantly higher actual win probability at almost 10% higher.\n",
    "\n",
    "Significant Underdogs: Away teams with less than 20% probability of winning have a significantly lower actual win probability at almost 10% lower."
   ]
  },
  {
   "cell_type": "markdown",
   "metadata": {},
   "source": [
    "---"
   ]
  },
  {
   "cell_type": "markdown",
   "metadata": {},
   "source": [
    "# 8. Are There Potential Mispricings in Draw Odds?\n",
    "\n",
    "Now that we've identified some exploitable mispricings in Home and Away odds, let's investigate if draws present the same opportunities for us.\n",
    "\n",
    "Similarly, let's first visualise the distribution of draw odds before deciding the categories to bin them into for our subsequent analysis."
   ]
  },
  {
   "cell_type": "code",
   "execution_count": 66,
   "metadata": {},
   "outputs": [],
   "source": [
    "draw_odds_df = merged_df.copy()\n",
    "draw_odds_df = draw_odds_df[['fixture_id', 'FTR', 'max_draw']]"
   ]
  },
  {
   "cell_type": "code",
   "execution_count": 67,
   "metadata": {},
   "outputs": [],
   "source": [
    "draw_odds_density = (\n",
    "    ggplot(draw_odds_df, aes(x='max_draw'))\n",
    "    + geom_density(fill='blue', alpha=0.5)  # Add transparency for better visuals\n",
    "    + ggsize(800,400)\n",
    "    + scale_x_continuous(limits=(0, 10)) \n",
    "    + ggtitle('Density Plot of Draw Odds')\n",
    "    + labs(x='Draw Odds', y='Density',\n",
    "           title = 'Density Plot of Draw Odds',\n",
    "           subtitle = 'Draw odds cluster at the range of 3 to 5 with a peak at 3.6')\n",
    "    + theme(\n",
    "        axis_text_x=element_text(size=12),\n",
    "        axis_text_y=element_text(size=12),\n",
    "        axis_title_x=element_text(size=14),\n",
    "        axis_title_y=element_text(size=14),\n",
    "        plot_title=element_text(size=22, face='bold', hjust=0.5),\n",
    "        plot_subtitle=element_text(size=16,color = 'blue', hjust = 0.5)\n",
    "    )\n",
    ")"
   ]
  },
  {
   "cell_type": "markdown",
   "metadata": {},
   "source": [
    "[Plot of Draw Odds Density](../data/visualisations/simple_betting_strategies/draw_odds_density.svg)"
   ]
  },
  {
   "cell_type": "markdown",
   "metadata": {},
   "source": [
    "Seeing that most odds are clustered from 3 to 5, let's opt for greater granularity of bins in that region to have more precise analysis."
   ]
  },
  {
   "cell_type": "code",
   "execution_count": null,
   "metadata": {},
   "outputs": [],
   "source": [
    "draw_bins = [3.0, 3.5, 4.0, 4.5, 5.0, 6.0, 7.0, 8.0, 9.0, 10.0]\n",
    "\n",
    "draw_df = get_implied_vs_actual(\n",
    "    df = draw_odds_df,\n",
    "    odds_column = 'max_draw',\n",
    "    bins = draw_bins,\n",
    "    outcome_label = 'D'\n",
    ")"
   ]
  },
  {
   "cell_type": "code",
   "execution_count": 69,
   "metadata": {},
   "outputs": [],
   "source": [
    "draw_probabilities = (\n",
    "    ggplot(draw_df, aes(x='odds_bin', y='Probability', color='Type'))\n",
    "    + geom_line(size=1)\n",
    "    + ggsize(800, 400)\n",
    "    + ggtitle('Implied vs Actual Draw Probability')\n",
    "    + labs(x='Draw Odds Bin', y='Probability', color='Legend')\n",
    "    + scale_color_manual(values={'Actual Probability': 'black', 'Implied Probability': '#0A8F11'})\n",
    "    + theme(\n",
    "        axis_text_x=element_text(size=12, angle=45, hjust=1),\n",
    "        axis_title_x=element_text(size=14),\n",
    "        axis_title_y=element_text(size=14),\n",
    "        plot_title=element_text(size=22, face='bold', hjust=0.5),\n",
    "        legend_position='bottom'\n",
    "    )\n",
    ")"
   ]
  },
  {
   "cell_type": "markdown",
   "metadata": {},
   "source": [
    "[Plot of Implied vs Actual Probabilities for Draws](../data/visualisations/simple_betting_strategies/draw_probabilities.svg)"
   ]
  },
  {
   "cell_type": "markdown",
   "metadata": {},
   "source": [
    "**Conclusion:** Draw odds are almost always overpriced and at rather significant levels, offering no opportunity to exploit these mispricings"
   ]
  },
  {
   "cell_type": "markdown",
   "metadata": {},
   "source": [
    "---"
   ]
  },
  {
   "cell_type": "markdown",
   "metadata": {},
   "source": [
    "# 9. Are There Any Situations Where Betting on Draws Make Sense?"
   ]
  },
  {
   "cell_type": "code",
   "execution_count": 70,
   "metadata": {},
   "outputs": [],
   "source": [
    "draw_strategy_df = merged_df.copy()\n",
    "draw_strategy_df['odds_difference'] = abs(draw_strategy_df['max_home'] - draw_strategy_df['max_away'])\n",
    "draw_strategy_df['result_type'] = draw_strategy_df.apply(get_result_type, axis=1)"
   ]
  },
  {
   "cell_type": "code",
   "execution_count": 71,
   "metadata": {},
   "outputs": [],
   "source": [
    "odds_difference_density = (\n",
    "    ggplot(draw_strategy_df, aes(x='odds_difference'))\n",
    "    + geom_density(fill='blue', alpha=0.5)  # Add transparency for better visuals\n",
    "    + ggsize(800,400)\n",
    "    + scale_x_continuous(limits=(0, 10)) \n",
    "    + labs(x='Odds Difference', y='Density',\n",
    "           title = 'Density Plot of Odds Difference',\n",
    "           subtitle = 'Most matches have an odds difference of between 0 and 2')\n",
    "    + theme(\n",
    "        axis_text_x=element_text(size=12),\n",
    "        axis_text_y=element_text(size=12),\n",
    "        axis_title_x=element_text(size=14),\n",
    "        axis_title_y=element_text(size=14),\n",
    "        plot_title=element_text(size=22, face='bold', hjust=0.5),\n",
    "        plot_subtitle=element_text(size=16,color = 'blue', hjust = 0.5)\n",
    "    )\n",
    ")"
   ]
  },
  {
   "cell_type": "markdown",
   "metadata": {},
   "source": [
    "[Plot of Odds Difference Density](../data/visualisations/simple_betting_strategies/odds_difference_density.svg)"
   ]
  },
  {
   "cell_type": "code",
   "execution_count": 72,
   "metadata": {},
   "outputs": [],
   "source": [
    "# Bin the strategies based upon the difference in odds\n",
    "bins = [0, 0.5, 1.0, 1.5, 2.0, 2.5, 3.0, 3.5, 4.0, 4.5, 5.0, 5.5, 6.0, 7.0, 8.0, 9.0, 10.0]\n",
    "draw_strategy_df['odds_diff_bin'] = pd.cut(draw_strategy_df['odds_difference'], bins=bins, include_lowest=True)"
   ]
  },
  {
   "cell_type": "code",
   "execution_count": null,
   "metadata": {},
   "outputs": [],
   "source": [
    "# Calculate win rates for each strategy\n",
    "win_rates = (\n",
    "    draw_strategy_df.groupby('odds_diff_bin')['result_type']\n",
    "    .value_counts(normalize=True)  # Calculate proportions (win rates)\n",
    "    .unstack(fill_value=0)         # Pivot to create columns for each strategy\n",
    "    .reset_index()\n",
    ")\n",
    "\n",
    "# Rename columns for clarity\n",
    "win_rates = win_rates.rename(columns={\n",
    "    'F': 'Favorite Win Rate',\n",
    "    'U': 'Underdog Win Rate',\n",
    "    'D': 'Draw Win Rate'\n",
    "})\n",
    "\n",
    "# Convert bins to strings for plotting compatibility\n",
    "win_rates['odds_diff_bin'] = win_rates['odds_diff_bin'].astype(str)\n",
    "\n",
    "#Reshape the data for plotting\n",
    "win_rates_melted = win_rates.melt(\n",
    "    id_vars='odds_diff_bin',\n",
    "    value_vars=['Favorite Win Rate', 'Underdog Win Rate', 'Draw Win Rate'],\n",
    "    var_name='Strategy',\n",
    "    value_name='Win Rate'\n",
    ")"
   ]
  },
  {
   "cell_type": "code",
   "execution_count": 74,
   "metadata": {},
   "outputs": [],
   "source": [
    "win_rate_odds_differences = (\n",
    "    ggplot(win_rates_melted, aes(x='odds_diff_bin', y='Win Rate', color='Strategy'))\n",
    "    + geom_line(size=1)\n",
    "    + geom_point(size=2)\n",
    "    + ggsize(800,400)\n",
    "    + ggtitle('Betting on draws has the lowest win rate irrespective of matchup differences!')\n",
    "    + labs(x='Odds Difference (Home - Away)', y='Win Rate', color='Strategy')\n",
    "    + scale_color_manual(values={\n",
    "        'Bet on Favourites': 'black',\n",
    "        'Bet on Underdogs': 'grey',\n",
    "        'Bet on Draw': '#d85b06'\n",
    "    })\n",
    "    + theme(\n",
    "        panel_grid = None,\n",
    "        axis_text_x=element_text(size=12, angle=45, hjust=1),\n",
    "        axis_title_x=element_text(size=14),\n",
    "        axis_title_y=element_text(size=14),\n",
    "        plot_title=element_text(size=20, face='bold', hjust=0.5),\n",
    "        legend_position = (0.5,0.5)\n",
    "    )\n",
    ")"
   ]
  },
  {
   "cell_type": "markdown",
   "metadata": {},
   "source": [
    "[Plot of Win Rates Across Different Matchups](../data/visualisations/simple_betting_strategies/win_rate_odds_differences.svg)"
   ]
  },
  {
   "cell_type": "markdown",
   "metadata": {},
   "source": [
    "**Conclusion:** Unfortunately, betting on draws is not the statistically favourable strategy at any juncture. From this visualisation however, we can see that the probabilities of each outcome are equally likely in fairer matchups (which make sense intuitively). In that case, it might not be wise to take unidirectional bets in games with equal matchups because the risk is rather high."
   ]
  },
  {
   "cell_type": "markdown",
   "metadata": {},
   "source": [
    "---"
   ]
  },
  {
   "cell_type": "markdown",
   "metadata": {},
   "source": [
    "# 10. Backtesting Various Unidirectional Strategies\n",
    "\n",
    "Given the data we've collected, we would like to experiment with leveraging mispriced odds in our betting strategies. Hence, we would compare the profitabilities of:\n",
    "| Strategy                           | Odds Range     | Strategy Type |\n",
    "|-------------------------------------|---------------|----|\n",
    "| Betting on Home Favourites         | 1.25 to 1.75  | Discretionary |\n",
    "| Betting on Home Underdogs          | 4.5 to 5.5    | Discretionary |\n",
    "| Betting on Away Underdogs          | 2.5 to 4.0    | Discretionary |\n",
    "| Betting on Favourites  | NIL | Simple |\n",
    "| Betting on Underdogs | NIL | Simple |\n",
    "| Betting on Draws | NIL | Simple |"
   ]
  },
  {
   "cell_type": "code",
   "execution_count": 75,
   "metadata": {},
   "outputs": [],
   "source": [
    "backtest_df = merged_df.copy()\n",
    "\n",
    "# Organising Dataframe\n",
    "backtest_df = backtest_df[['fixture_id', 'Date', 'FTR', 'max_home', 'max_away', 'max_draw']]\n",
    "backtest_df['FTR_simple'] = backtest_df.apply(get_result_type,axis=1)\n",
    "backtest_df['FTR_discretionary'] = backtest_df['FTR']\n",
    "backtest_df.drop(columns=['FTR'], inplace=True)\n",
    "\n",
    "# Obtaining the odds for favourites and underdogs\n",
    "backtest_df[\"favourite_odds\"] = backtest_df[[\"max_home\", \"max_away\"]].min(axis=1)\n",
    "backtest_df[\"underdog_odds\"] = backtest_df[[\"max_home\", \"max_away\"]].max(axis=1)\n",
    "\n",
    "# Dropping any games with NaN values for odds\n",
    "backtest_df = backtest_df.dropna(subset=[\"max_home\", \"max_away\", \"max_draw\"]).reset_index(drop=True)\n",
    "\n",
    "#Sorting by date to ensure validity of backtesting\n",
    "backtest_df[\"Date\"] = pd.to_datetime(backtest_df[\"Date\"], dayfirst=True, errors='coerce')\n",
    "backtest_df = backtest_df.sort_values(by=\"Date\").reset_index(drop=True)"
   ]
  },
  {
   "cell_type": "markdown",
   "metadata": {},
   "source": [
    "Here let's define whether or not the discretionary strategy can be implemented based upon a binary '0' or '1' variable. This way, bet simulations can be more streamlined as we can just take this binary variable multiplied by the odds - so if no bet is made, no change to profit levels."
   ]
  },
  {
   "cell_type": "code",
   "execution_count": null,
   "metadata": {},
   "outputs": [],
   "source": [
    "backtest_df[\"Bet_Home_Favourites\"] = ((backtest_df[\"max_home\"] >= 1.25) & (backtest_df[\"max_home\"] <= 1.75)).astype(int)\n",
    "backtest_df[\"Bet_Home_Underdogs\"] = ((backtest_df[\"max_home\"] >= 4.5) & (backtest_df[\"max_home\"] <= 5.5)).astype(int)\n",
    "backtest_df[\"Bet_Away_Underdogs\"] = ((backtest_df[\"max_away\"] >= 2.5) & (backtest_df[\"max_away\"] <= 4.0)).astype(int)"
   ]
  },
  {
   "cell_type": "markdown",
   "metadata": {},
   "source": [
    "Now that we've decided on the dataframe structure let's set up the system for backtesting this strategy. The first thing we need to do is decide the stake limits for each category of strategies:\n",
    "\n",
    "1. Simple Unidirectional (Betting on Favourites, Underdogs and Draws)\n",
    "2. Discretionary Unidirectional (Betting on Home Favourites, Home Underdogs and Away Underdogs) \n",
    "\n",
    "There are 380 EPL matches over about 9 months, which comes round to about 10 matches per week. Hence, for Simple Unidirectional we would set a stake limit of 10%, meaning we bet 10% of our budget each time on every game.\n",
    "\n",
    "A simple count below shows that in our dataset of 1779 matches only a total of 1084 matches qualify for discretionary betting opportunities that capitalise on potentially mispriced odds. In that case, let's adjust our stake limit to 25% such that we can concentrate our bets more and the returns aren't affected by the lower bet counts."
   ]
  },
  {
   "cell_type": "code",
   "execution_count": null,
   "metadata": {},
   "outputs": [],
   "source": [
    "# Count the number of matches where at least one strategy is active (i.e., at least one '1')\n",
    "bettable_matches = (backtest_df[['Bet_Home_Favourites', 'Bet_Home_Underdogs', 'Bet_Away_Underdogs']].sum(axis=1) > 0).sum()\n",
    "bettable_matches"
   ]
  },
  {
   "cell_type": "markdown",
   "metadata": {},
   "source": [
    "Let's set the initial bankroll value at 1000. We would also like to set 1000 as the hard cap on the stake value - regardless of the budget, a stake wouldn't be more than 1000. This is just to mimic better behaviour better and can be potentially further analysed."
   ]
  },
  {
   "cell_type": "code",
   "execution_count": 78,
   "metadata": {},
   "outputs": [],
   "source": [
    "initial_bankroll = 1000  "
   ]
  },
  {
   "cell_type": "markdown",
   "metadata": {},
   "source": [
    "This is the function to simulate the bankroll of discretionary strategies."
   ]
  },
  {
   "cell_type": "code",
   "execution_count": 79,
   "metadata": {},
   "outputs": [],
   "source": [
    "def calculate_discretionary_bankroll(df, strategy_col, odds_col, result_condition, stake_pct=0.25):\n",
    "    bankroll = initial_bankroll\n",
    "    bankroll_progress = [bankroll]  # Start bankroll at 1000\n",
    "\n",
    "    for index, row in df.iterrows():\n",
    "        if row[strategy_col] == 1:  \n",
    "            stake = min(stake_pct * bankroll, 500)\n",
    "\n",
    "            if row[\"FTR_discretionary\"] == result_condition:  # If the bet wins\n",
    "                bankroll += (row[odds_col] - 1) * stake  # Profit calculation\n",
    "            else:  # If the bet loses\n",
    "                bankroll -= stake  # Deduct stake\n",
    "\n",
    "        bankroll_progress.append(bankroll)\n",
    "\n",
    "    return bankroll_progress[: len(df)]  # Ensure list length matches DataFrame\n",
    "\n",
    "backtest_df[\"Bankroll_Home_Favourites\"] = calculate_discretionary_bankroll(\n",
    "    backtest_df, strategy_col=\"Bet_Home_Favourites\", odds_col=\"max_home\", result_condition=\"H\", stake_pct=0.25)\n",
    "\n",
    "backtest_df[\"Bankroll_Home_Underdogs\"] = calculate_discretionary_bankroll(\n",
    "    backtest_df, strategy_col=\"Bet_Home_Underdogs\", odds_col=\"max_home\", result_condition=\"H\", stake_pct=0.25)\n",
    "\n",
    "backtest_df[\"Bankroll_Away_Underdogs\"] = calculate_discretionary_bankroll(\n",
    "    backtest_df, strategy_col=\"Bet_Away_Underdogs\", odds_col=\"max_away\", result_condition=\"A\", stake_pct=0.25)"
   ]
  },
  {
   "cell_type": "markdown",
   "metadata": {},
   "source": [
    "This is the function to simulate bankroll of simple betting strategies."
   ]
  },
  {
   "cell_type": "code",
   "execution_count": 80,
   "metadata": {},
   "outputs": [],
   "source": [
    "def calculate_simple_bankroll(df, strategy_condition, odds_col, stake_pct=0.10):\n",
    "    bankroll = initial_bankroll\n",
    "    bankroll_progress = [bankroll]  # Start bankroll at 1000\n",
    "\n",
    "    for index, row in df.iterrows():\n",
    "        stake = min(stake_pct * bankroll, 500)\n",
    "\n",
    "        if row[\"FTR_simple\"] == strategy_condition:  # If the bet wins\n",
    "            bankroll += (row[odds_col] - 1) * stake  \n",
    "        else:  # If the bet loses\n",
    "            bankroll -= stake  # Deduct stake\n",
    "\n",
    "        bankroll_progress.append(bankroll)\n",
    "\n",
    "    return bankroll_progress[: len(df)]  # Ensure length matches DataFrame\n",
    "\n",
    "backtest_df[\"Bankroll_Favourite\"] = calculate_simple_bankroll(\n",
    "    backtest_df, strategy_condition=\"F\", odds_col=\"favourite_odds\", stake_pct=0.1)\n",
    "\n",
    "backtest_df[\"Bankroll_Underdog\"] = calculate_simple_bankroll(\n",
    "    backtest_df, strategy_condition=\"U\", odds_col=\"underdog_odds\", stake_pct=0.1)\n",
    "\n",
    "backtest_df[\"Bankroll_Draw\"] = calculate_simple_bankroll(\n",
    "    backtest_df, strategy_condition=\"D\", odds_col=\"max_draw\", stake_pct=0.1)"
   ]
  },
  {
   "cell_type": "code",
   "execution_count": 81,
   "metadata": {},
   "outputs": [],
   "source": [
    "# Dynamically generate valid year tick marks based on dataset range\n",
    "year_ticks = pd.date_range(start=backtest_df[\"Date\"].min(), end=backtest_df[\"Date\"].max(), freq=\"YS\")\n",
    "\n",
    "# Prepare data for Lets-Plot\n",
    "plot_data = backtest_df.melt(\n",
    "    id_vars=[\"Date\"], \n",
    "    value_vars=[\"Bankroll_Favourite\", \"Bankroll_Underdog\", \"Bankroll_Draw\", \n",
    "                \"Bankroll_Home_Favourites\", \"Bankroll_Home_Underdogs\", \"Bankroll_Away_Underdogs\"],\n",
    "    var_name=\"Strategy\", \n",
    "    value_name=\"Bankroll\"\n",
    ")"
   ]
  },
  {
   "cell_type": "markdown",
   "metadata": {},
   "source": [
    "Custom legend names and colours for better visuals"
   ]
  },
  {
   "cell_type": "code",
   "execution_count": 82,
   "metadata": {},
   "outputs": [],
   "source": [
    "custom_legend = {\n",
    "    \"Bankroll_Away_Underdogs\": \"Bet on Away Underdogs\",\n",
    "    \"Bankroll_Favourite\": \"Bet on Favourites\",\n",
    "    \"Bankroll_Underdog\": \"Bet on Underdogs\",\n",
    "    \"Bankroll_Draw\": \"Bet on Draws\",\n",
    "    \"Bankroll_Home_Favourites\": \"Bet on Home Favourites\",\n",
    "    \"Bankroll_Home_Underdogs\": \"Bet on Home Underdogs\",\n",
    "}\n",
    "\n",
    "custom_colors = {\n",
    "    \"Bankroll_Away_Underdogs\": \"#e41a1c\",  \n",
    "    \"Bankroll_Favourite\": \"black\",  \n",
    "    \"Bankroll_Underdog\": \"#AA5F10\",  \n",
    "    \"Bankroll_Draw\": \"#078D71\",  \n",
    "    \"Bankroll_Home_Favourites\": \"#0B64A4\",  \n",
    "    \"Bankroll_Home_Underdogs\": \"#4E0991\",  \n",
    "}"
   ]
  },
  {
   "cell_type": "code",
   "execution_count": 83,
   "metadata": {},
   "outputs": [],
   "source": [
    "bet_simulation = (\n",
    "    ggplot(plot_data, aes(x=\"Date\", y=\"Bankroll\", color=\"Strategy\"))\n",
    "    + ggsize(800, 600)\n",
    "    + geom_line(size=0.5)\n",
    "    + scale_color_manual(name=\"Betting Strategies\", values=custom_colors, labels=custom_legend)\n",
    "    + scale_y_continuous(limits=(0, None), expand=[0, 0]) \n",
    "    + scale_x_datetime(breaks=year_ticks.tolist(), labels=year_ticks.year.astype(int).astype(str).tolist())  # ✅ Fixed x-axis formatting\n",
    "    + labs(\n",
    "        x=\"Date\",\n",
    "        y=\"Bankroll (£)\",\n",
    "        title=\"Only Betting on Away Underdogs is Profitable Long Run!\",\n",
    "        subtitle=\"All other strategies eventually run your budget to zero\"\n",
    "    )\n",
    "    + theme(\n",
    "        axis_text_x=element_text(size=12, angle=0, hjust=1),\n",
    "        plot_title=element_text(face=\"bold\", hjust=0.5, size=22),\n",
    "        plot_subtitle=element_text(size=16, hjust=0.5, color=\"blue\"),\n",
    "        legend_text=element_text(size=10),\n",
    "        legend_title=element_text(size=12),\n",
    "        axis_line_x=element_line(color=\"black\", size=1), \n",
    "        axis_line_y=element_line(color=\"black\", size=1),\n",
    "        legend_position=(0.75, 0.2)  \n",
    "    )\n",
    ")"
   ]
  },
  {
   "cell_type": "markdown",
   "metadata": {},
   "source": [
    "[Plot of Bet Simulation](../data/visualisations/simple_betting_strategies/bet_simulation.svg)"
   ]
  },
  {
   "cell_type": "markdown",
   "metadata": {},
   "source": [
    "**Conclusion**:\n",
    "Unfortunately, this shows that gambling only pays off when you're willing to take risk! Jokes aside, it's expected that most betting strategies will run our bankroll to zero because most bookmakers have quite efficiently priced odds.\n",
    "\n",
    "It is interesting to see the success of the discretionary strategy of betting on Away Underdogs, because it corresponds to the largest odds mispricing amongst bookmakers -- where the actual probability of winning is almost 10% higher than the implied probability. \n",
    "\n",
    "However, it is worth noting that this might just be a temporary phenomenon in these few years where traditionally 'underdog' teams like Nottingham Forest, Aston Villa and West Ham have taken over the Premier League. We would need more data to confirm the applicability of this strategy to different eras of the Premier League."
   ]
  },
  {
   "cell_type": "markdown",
   "metadata": {},
   "source": [
    "# 11. Overall Conclusions"
   ]
  },
  {
   "cell_type": "markdown",
   "metadata": {},
   "source": [
    "**Best Bookmaker for High Odds**: Marathon Bet\n",
    "\n",
    "**Beneficial Mispricings in Odds**:\n",
    "1. Home Favourites (Odds from 1.5 to 2): Underpriced Odds\n",
    "2. Home Underdogs (Odds from 4.5 to 5.5): Underpriced Odds\n",
    "3. Away Underdogs (Odds from 3 to 4): - Significantly Underpriced Odds \n",
    "\n",
    "**Most Reliable Betting Strategy**:\n",
    "Betting on the Away Underdogs (Odds from 3 to 4). "
   ]
  },
  {
   "cell_type": "code",
   "execution_count": null,
   "metadata": {},
   "outputs": [],
   "source": [
    "ggsave(top_home_bookmakers,\"top_home_bookmakers.svg\", path = \"../data/visualisations/simple_betting_strategies\", dpi = 300)\n",
    "ggsave(top_away_bookmakers,\"top_away_bookmakers.svg\", path = \"../data/visualisations/simple_betting_strategies\", dpi = 300)\n",
    "ggsave(top_draw_bookmakers,\"top_draw_bookmakers.svg\", path = \"../data/visualisations/simple_betting_strategies\", dpi = 300)\n",
    "ggsave(win_rate_across_time,\"win_rate_across_time.svg\", path = \"../data/visualisations/simple_betting_strategies\", dpi = 300)\n",
    "ggsave(odds_density,\"odds_density.svg\", path = \"../data/visualisations/simple_betting_strategies\", dpi = 300)\n",
    "ggsave(home_win_probabilities,\"home_win_probabilities.svg\", path = \"../data/visualisations/simple_betting_strategies\", dpi = 300)\n",
    "ggsave(away_win_probabilities,\"away_win_probabilities.svg\", path = \"../data/visualisations/simple_betting_strategies\", dpi = 300)\n",
    "ggsave(draw_odds_density,\"draw_odds_density.svg\", path = \"../data/visualisations/simple_betting_strategies\", dpi = 300)\n",
    "ggsave(draw_probabilities,\"draw_probabilities.svg\", path = \"../data/visualisations/simple_betting_strategies\", dpi = 300)\n",
    "ggsave(odds_difference_density,\"odds_difference_density.svg\", path = \"../data/visualisations/simple_betting_strategies\", dpi = 300)\n",
    "ggsave(win_rate_odds_differences,\"win_rate_odds_differences.svg\", path = \"../data/visualisations/simple_betting_strategies\", dpi = 300)\n",
    "ggsave(bet_simulation,\"bet_simulation.svg\", path = \"../data/visualisations/simple_betting_strategies\", dpi = 300)"
   ]
  }
 ],
 "metadata": {
  "kernelspec": {
   "display_name": "Python 3",
   "language": "python",
   "name": "python3"
  },
  "language_info": {
   "codemirror_mode": {
    "name": "ipython",
    "version": 3
   },
   "file_extension": ".py",
   "mimetype": "text/x-python",
   "name": "python",
   "nbconvert_exporter": "python",
   "pygments_lexer": "ipython3",
   "version": "3.12.8"
  }
 },
 "nbformat": 4,
 "nbformat_minor": 2
}
