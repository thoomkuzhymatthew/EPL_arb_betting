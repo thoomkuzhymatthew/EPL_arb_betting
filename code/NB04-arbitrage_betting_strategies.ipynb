{
 "cells": [
  {
   "cell_type": "markdown",
   "metadata": {},
   "source": [
    "# Arbitrage Betting Strategies\n",
    "---\n",
    "- Author: Matthew Thoomkuzhy\n",
    "\n",
    "- Date: 29/01/2025\n",
    "\n",
    "- Aim: To investigate the nature of arbitrage opportunities over the smaple, to inform and devise an arbitrage betting strategy (this will be bakctested in NB05)\n",
    "---"
   ]
  },
  {
   "cell_type": "markdown",
   "metadata": {},
   "source": [
    "# 1. Introduction\n",
    "\n",
    "This notebook will largely consist of exploratory daata analysis where we explore and identify patterns involving arbitrage opportunities for premier league matches from 2020 to 2025\n",
    "\n",
    "**Key questions I aim to answer:**\n",
    "\n",
    "\n",
    "\n",
    "- How has the prevelance of arbitrage opportunities changed over time?, is it periodic? (i.e. more opportunites at the start of every season)\n",
    "\n",
    "\n",
    "- Which bookmakers are often involved in offering arbitrage opportunites? Do certain combinations of bookmakers appear more often?\n",
    "\n",
    "\n",
    "- When arbitrage opportunities are present what is the distribution of odds differences among outcomes, is there a clear favourite or are the games implicitly 'close'\n",
    "\n",
    "\n",
    "- How do full time results vary with odds differences, can this information be used to inform when to use biased vs unbiased arbitrage?\n",
    "\n"
   ]
  },
  {
   "cell_type": "markdown",
   "metadata": {},
   "source": [
    "---\n",
    "# 2. Importing Libraries"
   ]
  },
  {
   "cell_type": "code",
   "execution_count": 3,
   "metadata": {},
   "outputs": [
    {
     "ename": "ImportError",
     "evalue": "cannot import name 'merge_odds_data' from 'functions' (c:\\Users\\jogim\\OneDrive\\Desktop\\business\\ds105a-2024-project-good_gamblers\\code\\functions.py)",
     "output_type": "error",
     "traceback": [
      "\u001b[1;31m---------------------------------------------------------------------------\u001b[0m",
      "\u001b[1;31mImportError\u001b[0m                               Traceback (most recent call last)",
      "Cell \u001b[1;32mIn[3], line 1\u001b[0m\n\u001b[1;32m----> 1\u001b[0m \u001b[38;5;28;01mfrom\u001b[39;00m \u001b[38;5;21;01mfunctions\u001b[39;00m \u001b[38;5;28;01mimport\u001b[39;00m process_row , merge_odds_data \u001b[38;5;66;03m# from functions.py\u001b[39;00m\n\u001b[0;32m      2\u001b[0m \u001b[38;5;28;01mimport\u001b[39;00m \u001b[38;5;21;01mpandas\u001b[39;00m \u001b[38;5;28;01mas\u001b[39;00m \u001b[38;5;21;01mpd\u001b[39;00m\n\u001b[0;32m      3\u001b[0m \u001b[38;5;28;01mfrom\u001b[39;00m \u001b[38;5;21;01msqlalchemy\u001b[39;00m \u001b[38;5;28;01mimport\u001b[39;00m create_engine\n",
      "\u001b[1;31mImportError\u001b[0m: cannot import name 'merge_odds_data' from 'functions' (c:\\Users\\jogim\\OneDrive\\Desktop\\business\\ds105a-2024-project-good_gamblers\\code\\functions.py)"
     ]
    }
   ],
   "source": [
    "from functions import process_row , process_odds_data # from functions.py\n",
    "import pandas as pd\n",
    "from sqlalchemy import create_engine\n",
    "from lets_plot import * \n",
    "from lets_plot import ggsave\n",
    "from IPython.display import SVG"
   ]
  },
  {
   "cell_type": "markdown",
   "metadata": {},
   "source": [
    "---\n",
    "# 3.  Obtaining DF from DB"
   ]
  },
  {
   "cell_type": "code",
   "execution_count": 2,
   "metadata": {},
   "outputs": [
    {
     "ename": "NameError",
     "evalue": "name 'merge_odds_data' is not defined",
     "output_type": "error",
     "traceback": [
      "\u001b[1;31m---------------------------------------------------------------------------\u001b[0m",
      "\u001b[1;31mNameError\u001b[0m                                 Traceback (most recent call last)",
      "Cell \u001b[1;32mIn[2], line 5\u001b[0m\n\u001b[0;32m      2\u001b[0m odds_df \u001b[38;5;241m=\u001b[39m pd\u001b[38;5;241m.\u001b[39mread_sql(\u001b[38;5;124m'\u001b[39m\u001b[38;5;124mSELECT * FROM historical_odds\u001b[39m\u001b[38;5;124m'\u001b[39m, con\u001b[38;5;241m=\u001b[39mengine)\n\u001b[0;32m      3\u001b[0m results_df \u001b[38;5;241m=\u001b[39m pd\u001b[38;5;241m.\u001b[39mread_sql(\u001b[38;5;124m'\u001b[39m\u001b[38;5;124mSELECT * FROM match_results\u001b[39m\u001b[38;5;124m'\u001b[39m, con\u001b[38;5;241m=\u001b[39mengine)\n\u001b[1;32m----> 5\u001b[0m merged_df \u001b[38;5;241m=\u001b[39m \u001b[43mmerge_odds_data\u001b[49m(odds_df, results_df)\n\u001b[0;32m      6\u001b[0m merged_df\n",
      "\u001b[1;31mNameError\u001b[0m: name 'merge_odds_data' is not defined"
     ]
    }
   ],
   "source": [
    "engine = create_engine('sqlite:///../data/sports_odds.db')\n",
    "odds_df = pd.read_sql('SELECT * FROM historical_odds', con=engine)\n",
    "results_df = pd.read_sql('SELECT * FROM match_results', con=engine)\n",
    "\n",
    "merged_df = merge_odds_data(odds_df, results_df)\n",
    "merged_df\n"
   ]
  },
  {
   "cell_type": "markdown",
   "metadata": {},
   "source": []
  }
 ],
 "metadata": {
  "kernelspec": {
   "display_name": "Python 3",
   "language": "python",
   "name": "python3"
  },
  "language_info": {
   "codemirror_mode": {
    "name": "ipython",
    "version": 3
   },
   "file_extension": ".py",
   "mimetype": "text/x-python",
   "name": "python",
   "nbconvert_exporter": "python",
   "pygments_lexer": "ipython3",
   "version": "3.12.7"
  }
 },
 "nbformat": 4,
 "nbformat_minor": 2
}
