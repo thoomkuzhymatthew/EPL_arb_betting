{
 "cells": [
  {
   "cell_type": "markdown",
   "metadata": {},
   "source": [
    "# Arbitrage Betting Strategies\n",
    "---\n",
    "- Author: Matthew Thoomkuzhy\n",
    "\n",
    "- Date: 29/01/2025\n",
    "\n",
    "- Aim: To investigate the nature of arbitrage opportunities over the smaple, to inform and devise an arbitrage betting strategy (this will be bakctested in NB05)\n",
    "---"
   ]
  },
  {
   "cell_type": "markdown",
   "metadata": {},
   "source": [
    "# 1. Introduction\n",
    "\n",
    "This notebook will largely consist of exploratory daata analysis where we explore and identify patterns involving arbitrage opportunities for premier league matches from 2020 to 2025\n",
    "\n",
    "**Key questions I aim to answer:**\n",
    "\n",
    "\n",
    "\n",
    "- How has the prevelance of arbitrage opportunities changed over time?, is it periodic? (i.e. more opportunites at the start of every season)\n",
    "\n",
    "\n",
    "- Which bookmakers are often involved in offering arbitrage opportunites? Do certain combinations of bookmakers appear more often?\n",
    "\n",
    "\n",
    "- When arbitrage opportunities are present what is the distribution of odds differences among outcomes, is there a clear favourite or are the games implicitly 'close'\n",
    "\n",
    "\n",
    "- How do full time results vary with odds differences, can this information be used to inform when to use biased vs unbiased arbitrage?\n",
    "\n"
   ]
  },
  {
   "cell_type": "markdown",
   "metadata": {},
   "source": [
    "---\n",
    "# 2. Importing Libraries"
   ]
  },
  {
   "cell_type": "code",
   "execution_count": 1,
   "metadata": {},
   "outputs": [],
   "source": [
    "from functions import process_row , merge_odds_data # from functions.py\n",
    "import pandas as pd\n",
    "from sqlalchemy import create_engine\n",
    "from lets_plot import * \n",
    "from lets_plot import ggsave\n",
    "from IPython.display import SVG"
   ]
  },
  {
   "cell_type": "markdown",
   "metadata": {},
   "source": [
    "---\n",
    "# 3.  Obtaining DF from DB"
   ]
  },
  {
   "cell_type": "code",
   "execution_count": null,
   "metadata": {},
   "outputs": [],
   "source": [
    "engine = create_engine('sqlite:///../data/sports_odds.db')\n",
    "odds_df = pd.read_sql('SELECT * FROM historical_odds', con=engine)\n",
    "results_df = pd.read_sql('SELECT * FROM match_results', con=engine)\n"
   ]
  },
  {
   "cell_type": "markdown",
   "metadata": {},
   "source": []
  }
 ],
 "metadata": {
  "kernelspec": {
   "display_name": "Python 3",
   "language": "python",
   "name": "python3"
  },
  "language_info": {
   "codemirror_mode": {
    "name": "ipython",
    "version": 3
   },
   "file_extension": ".py",
   "mimetype": "text/x-python",
   "name": "python",
   "nbconvert_exporter": "python",
   "pygments_lexer": "ipython3",
   "version": "3.12.7"
  }
 },
 "nbformat": 4,
 "nbformat_minor": 2
}
